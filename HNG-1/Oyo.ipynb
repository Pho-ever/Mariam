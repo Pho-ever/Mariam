{
 "cells": [
  {
   "cell_type": "code",
   "execution_count": 1,
   "id": "4e556d0b-3e0c-49bd-9a82-03d8f989ba7a",
   "metadata": {},
   "outputs": [
    {
     "name": "stdout",
     "output_type": "stream",
     "text": [
      "Requirement already satisfied: pandas in c:\\users\\oluwa\\anaconda3\\lib\\site-packages (2.1.4)\n",
      "Requirement already satisfied: requests in c:\\users\\oluwa\\anaconda3\\lib\\site-packages (2.31.0)\n",
      "Requirement already satisfied: numpy<2,>=1.23.2 in c:\\users\\oluwa\\anaconda3\\lib\\site-packages (from pandas) (1.26.4)\n",
      "Requirement already satisfied: python-dateutil>=2.8.2 in c:\\users\\oluwa\\anaconda3\\lib\\site-packages (from pandas) (2.8.2)\n",
      "Requirement already satisfied: pytz>=2020.1 in c:\\users\\oluwa\\anaconda3\\lib\\site-packages (from pandas) (2023.3.post1)\n",
      "Requirement already satisfied: tzdata>=2022.1 in c:\\users\\oluwa\\anaconda3\\lib\\site-packages (from pandas) (2023.3)\n",
      "Requirement already satisfied: charset-normalizer<4,>=2 in c:\\users\\oluwa\\anaconda3\\lib\\site-packages (from requests) (2.0.4)\n",
      "Requirement already satisfied: idna<4,>=2.5 in c:\\users\\oluwa\\anaconda3\\lib\\site-packages (from requests) (3.4)\n",
      "Requirement already satisfied: urllib3<3,>=1.21.1 in c:\\users\\oluwa\\anaconda3\\lib\\site-packages (from requests) (2.0.7)\n",
      "Requirement already satisfied: certifi>=2017.4.17 in c:\\users\\oluwa\\anaconda3\\lib\\site-packages (from requests) (2024.6.2)\n",
      "Requirement already satisfied: six>=1.5 in c:\\users\\oluwa\\anaconda3\\lib\\site-packages (from python-dateutil>=2.8.2->pandas) (1.16.0)\n",
      "Note: you may need to restart the kernel to use updated packages.\n"
     ]
    }
   ],
   "source": [
    "pip install pandas requests"
   ]
  },
  {
   "cell_type": "code",
   "execution_count": 2,
   "id": "ebcea6ed-103c-4dc1-b675-4f56074d2e62",
   "metadata": {},
   "outputs": [
    {
     "ename": "ModuleNotFoundError",
     "evalue": "No module named 'geopy'",
     "output_type": "error",
     "traceback": [
      "\u001b[1;31m---------------------------------------------------------------------------\u001b[0m",
      "\u001b[1;31mModuleNotFoundError\u001b[0m                       Traceback (most recent call last)",
      "Cell \u001b[1;32mIn[2], line 2\u001b[0m\n\u001b[0;32m      1\u001b[0m \u001b[38;5;28;01mimport\u001b[39;00m \u001b[38;5;21;01mpandas\u001b[39;00m \u001b[38;5;28;01mas\u001b[39;00m \u001b[38;5;21;01mpd\u001b[39;00m\n\u001b[1;32m----> 2\u001b[0m \u001b[38;5;28;01mfrom\u001b[39;00m \u001b[38;5;21;01mgeopy\u001b[39;00m\u001b[38;5;21;01m.\u001b[39;00m\u001b[38;5;21;01mdistance\u001b[39;00m \u001b[38;5;28;01mimport\u001b[39;00m geodesic\n",
      "\u001b[1;31mModuleNotFoundError\u001b[0m: No module named 'geopy'"
     ]
    }
   ],
   "source": [
    "import pandas as pd\n",
    "from geopy.distance import geodesic"
   ]
  },
  {
   "cell_type": "code",
   "execution_count": 4,
   "id": "58b7c942-8935-44e5-a184-221821f9a907",
   "metadata": {},
   "outputs": [],
   "source": [
    "import pandas as pd\n",
    "from geopy.distance import geodesic"
   ]
  },
  {
   "cell_type": "code",
   "execution_count": 19,
   "id": "4a70fdac-a2b7-4d3e-b91a-b4fb1c83791e",
   "metadata": {},
   "outputs": [],
   "source": [
    "data = pd.read_csv('./OYO_PU.csv')"
   ]
  },
  {
   "cell_type": "code",
   "execution_count": 17,
   "id": "9c19123a-c64d-4c3e-baed-f2ba01ab11ea",
   "metadata": {},
   "outputs": [
    {
     "name": "stdout",
     "output_type": "stream",
     "text": [
      "Requirement already satisfied: tqdm in c:\\users\\oluwa\\anaconda3\\lib\\site-packages (4.65.0)\n",
      "Requirement already satisfied: colorama in c:\\users\\oluwa\\anaconda3\\lib\\site-packages (from tqdm) (0.4.6)\n",
      "Note: you may need to restart the kernel to use updated packages.\n"
     ]
    }
   ],
   "source": [
    "pip install tqdm"
   ]
  },
  {
   "cell_type": "code",
   "execution_count": 20,
   "id": "e5f56987-44df-4cf8-8408-7f2747e87868",
   "metadata": {},
   "outputs": [
    {
     "name": "stdout",
     "output_type": "stream",
     "text": [
      "Columns in the DataFrame: Index(['State', 'LGA', 'Ward', 'PU-Code', 'PU-Name', 'Full Address',\n",
      "       'Latitude', 'Longitude', 'Accredited_Voters', 'Registered_Voters',\n",
      "       'Results_Found', 'Transcription_Count', 'Result_Sheet_Stamped',\n",
      "       'Result_Sheet_Corrected', 'Result_Sheet_Invalid',\n",
      "       'Result_Sheet_Unclear', 'Result_Sheet_Unsigned', 'APC', 'LP', 'PDP',\n",
      "       'NNPP', 'Results_File'],\n",
      "      dtype='object')\n"
     ]
    }
   ],
   "source": [
    "\n",
    "# Print column names to check for the exact names\n",
    "print(\"Columns in the DataFrame:\", data.columns)"
   ]
  },
  {
   "cell_type": "code",
   "execution_count": 21,
   "id": "4397d2ae-03de-43f8-8fc4-905e111e6ade",
   "metadata": {},
   "outputs": [],
   "source": [
    "# Ensure Latitude and Longitude columns exist and are named correctly\n",
    "if 'Latitude' not in data.columns or 'Longitude' not in data.columns:\n",
    "    raise KeyError(\"The DataFrame does not contain 'Latitude' and 'Longitude' columns. Please check the column names.\")"
   ]
  },
  {
   "cell_type": "code",
   "execution_count": 22,
   "id": "2a6b0e51-b4bd-486d-b14a-e8632bbd8051",
   "metadata": {},
   "outputs": [],
   "source": [
    "# Convert Latitude and Longitude to numeric\n",
    "data['Latitude'] = pd.to_numeric(data['Latitude'], errors='coerce')\n",
    "data['Longitude'] = pd.to_numeric(data['Longitude'], errors='coerce')"
   ]
  },
  {
   "cell_type": "code",
   "execution_count": 23,
   "id": "f18af8c5-b9d2-4a9c-8594-f6088663d8b6",
   "metadata": {},
   "outputs": [],
   "source": [
    "# Define the radius in kilometers\n",
    "radius_in_km = 1"
   ]
  },
  {
   "cell_type": "code",
   "execution_count": 24,
   "id": "3f96e3b7-0af4-47f6-9096-c97b1a105038",
   "metadata": {},
   "outputs": [],
   "source": [
    "# Function to calculate distance and identify neighbors\n",
    "def find_neighbors(data, radius_in_km):\n",
    "    neighbors = {}\n",
    "    # Initialize tqdm for progress tracking\n",
    "    for idx, row in tqdm(data.iterrows(), total=len(data), desc=\"Identifying neighbors\"):\n",
    "        current_unit = (row['Latitude'], row['Longitude'])\n",
    "        neighbors[idx] = []\n",
    "        for i, other_row in data.iterrows():\n",
    "            if idx != i:\n",
    "                other_unit = (other_row['Latitude'], other_row['Longitude'])\n",
    "                if pd.notna(current_unit[0]) and pd.notna(current_unit[1]) and pd.notna(other_unit[0]) and pd.notna(\n",
    "                        other_unit[1]):\n",
    "                    distance = geodesic(current_unit, other_unit).km\n",
    "                    if distance <= radius_in_km:\n",
    "                        neighbors[idx].append(i)\n",
    "    return neighbors"
   ]
  },
  {
   "cell_type": "code",
   "execution_count": 27,
   "id": "2a2575ea-5745-40ec-b592-e443c67b041a",
   "metadata": {},
   "outputs": [
    {
     "name": "stderr",
     "output_type": "stream",
     "text": [
      "Identifying neighbors: 100%|██████████| 3899/3899 [1:27:55<00:00,  1.35s/it]\n"
     ]
    }
   ],
   "source": [
    "from tqdm import tqdm\n",
    "\n",
    "# Identify neighbors\n",
    "neighbors_dict = find_neighbors(data, radius_in_km)"
   ]
  },
  {
   "cell_type": "code",
   "execution_count": 30,
   "id": "c6749cf0-baae-4e6c-ac39-b7375987edbb",
   "metadata": {},
   "outputs": [
    {
     "name": "stdout",
     "output_type": "stream",
     "text": [
      "Updated file saved as './file.xlsx'\n"
     ]
    }
   ],
   "source": [
    "# Convert neighbor indices to their corresponding names or IDs\n",
    "data['Neighbors'] = data.index.map(lambda idx: ', '.join(data.loc[neighbors_dict[idx], 'PU-Name'].astype(str)))\n",
    "# Save the updated dataframe to an Excel file\n",
    "output_file_path = r'./file.xlsx'\n",
    "data.to_excel(output_file_path, index=False)\n",
    "print(f\"Updated file saved as '{output_file_path}'\")"
   ]
  },
  {
   "cell_type": "code",
   "execution_count": null,
   "id": "5a3ef506-fa4b-422a-8382-c2b1386e42af",
   "metadata": {},
   "outputs": [],
   "source": []
  }
 ],
 "metadata": {
  "kernelspec": {
   "display_name": "Python 3 (ipykernel)",
   "language": "python",
   "name": "python3"
  },
  "language_info": {
   "codemirror_mode": {
    "name": "ipython",
    "version": 3
   },
   "file_extension": ".py",
   "mimetype": "text/x-python",
   "name": "python",
   "nbconvert_exporter": "python",
   "pygments_lexer": "ipython3",
   "version": "3.11.7"
  }
 },
 "nbformat": 4,
 "nbformat_minor": 5
}
