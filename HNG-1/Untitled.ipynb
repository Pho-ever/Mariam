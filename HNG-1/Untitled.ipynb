{
 "cells": [
  {
   "cell_type": "code",
   "execution_count": null,
   "id": "ca56dfaa-a08f-4e6e-ae84-8ae2ada97b0e",
   "metadata": {},
   "outputs": [],
   "source": [
    "import pandas as pd\n",
    "from geopy.distance import geodesic\n",
    "from tqdm import tqdm\n",
    "\n",
    "# Load the CSV file\n",
    "file_path = r'C:\\Users\\nicho\\Downloads\\ENUGU_crosschecked_with_coordinates_corrected1.csv'\n",
    "df = pd.read_csv(file_path)\n",
    "\n",
    "# Print column names to check for the exact names\n",
    "print(\"Columns in the DataFrame:\", df.columns)\n",
    "\n",
    "# Ensure Latitude and Longitude columns exist and are named correctly\n",
    "if 'Latitude' not in df.columns or 'Longitude' not in df.columns:\n",
    "    raise KeyError(\"The DataFrame does not contain 'Latitude' and 'Longitude' columns. Please check the column names.\")\n",
    "\n",
    "# Convert Latitude and Longitude to numeric\n",
    "df['Latitude'] = pd.to_numeric(df['Latitude'], errors='coerce')\n",
    "df['Longitude'] = pd.to_numeric(df['Longitude'], errors='coerce')\n",
    "\n",
    "# Define the radius in kilometers\n",
    "radius_km = 1\n",
    "\n",
    "# Function to calculate distance and identify neighbors\n",
    "def find_neighbors(df, radius_km):\n",
    "    neighbors = {}\n",
    "    # Initialize tqdm for progress tracking\n",
    "    for idx, row in tqdm(df.iterrows(), total=len(df), desc=\"Identifying neighbors\"):\n",
    "        current_unit = (row['Latitude'], row['Longitude'])\n",
    "        neighbors[idx] = []\n",
    "        for i, other_row in df.iterrows():\n",
    "            if idx != i:\n",
    "                other_unit = (other_row['Latitude'], other_row['Longitude'])\n",
    "                if pd.notna(current_unit[0]) and pd.notna(current_unit[1]) and pd.notna(other_unit[0]) and pd.notna(\n",
    "                        other_unit[1]):\n",
    "                    distance = geodesic(current_unit, other_unit).km\n",
    "                    if distance <= radius_km:\n",
    "                        neighbors[idx].append(i)\n",
    "    return neighbors\n",
    "\n",
    "# Identify neighbors\n",
    "neighbors_dict = find_neighbors(df, radius_km)\n",
    "\n",
    "# Convert neighbor indices to their corresponding names or IDs\n",
    "df['Neighbors'] = df.index.map(lambda idx: ', '.join(df.loc[neighbors_dict[idx], 'PU-Name'].astype(str)))\n",
    "\n",
    "# Save the updated dataframe to an Excel file\n",
    "output_file_path = r'C:\\Users\\nicho\\Downloads\\file_2.xlsx'\n",
    "df.to_excel(output_file_path, index=False)\n",
    "print(f\"Updated file saved as '{output_file_path}'\")"
   ]
  }
 ],
 "metadata": {
  "kernelspec": {
   "display_name": "Python 3 (ipykernel)",
   "language": "python",
   "name": "python3"
  },
  "language_info": {
   "codemirror_mode": {
    "name": "ipython",
    "version": 3
   },
   "file_extension": ".py",
   "mimetype": "text/x-python",
   "name": "python",
   "nbconvert_exporter": "python",
   "pygments_lexer": "ipython3",
   "version": "3.11.7"
  }
 },
 "nbformat": 4,
 "nbformat_minor": 5
}
